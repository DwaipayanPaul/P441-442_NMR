{
 "cells": [
  {
   "cell_type": "markdown",
   "metadata": {},
   "source": [
    "###*Magnetic resonance: Computer simulations and visualization to connect quantum theory with classical concepts* -- Online supplement (Created by Larry Engelhardt, 2015)\n",
    "\n",
    "**Notes about differences between the .HTML and .IPYNB versions of this notebook:**\n",
    "\n",
    "In order for the interactive plots to work in the .HTML version, we used the \"ipywidgets\" library that is available here: https://github.com/jakevdp/ipywidgets.  This requires a separate download, so to make the .IPYNB version easier to use, we have instead used ipython's built-in widgets, as described [here](http://nbviewer.ipython.org/github/ipython/ipython/blob/rel-3.1.0/examples/Interactive%20Widgets/Index.ipynb).  The built-in widgets will not be active after the notebook is saved as a .HTML file (at least at the time of this writing), so if you want to modify this notebook and deliver it to students as a .HTML file, you will need to use ipywidgets.  If you are going to deliver this to students as a .IPYNB file (for students to execute inside of an IPython Notebook), it is easier to use the built-in widgets so that students won't need to download something extra.\n",
    "\n",
    "There is another significant difference between these two types of widgets:  With the built-in widgets, computations do not happen until you make a change (e.g., drag a slider), so for large computations (e.g., Fig. 2), you will notice a delay when you drag the slider.  With ipywidgets, ***all*** of the computations take place ***before*** the interactive plot is created, and the results (lots of plots) are all saved so they will be ready when you drag the slider.  As a result, there is no delay when you drag the slider, but the file size is much larger (since many plots have been saved).  Also, *creating* an interactive figure using ipywidgets might require a few minutes of computation (since all of the results are created at once). The trade-off is that *using* the interactive figures requires no computations.\n",
    "\n",
    "**To access interactive/animated versions of the plots from this article, use these links:**\n",
    "\n",
    "- **[Link to the interactive version of Fig. 1 (within this document)](#fig_1)**\n",
    "- **[Link to the interactive version of Fig. 2 (within this document)](#fig_2)**\n",
    "- **[Link to the interactive version of Fig. 3 (within this document)](#fig_3)**\n",
    "- **[Link to the interactive version of Fig. 4 (within this document)](#fig_4)**\n",
    "- **[Link to the interactive version of Figs. 5 and 6 (within this document)](#figs_5_6)**\n",
    "- **[The interactive version of Figs. 5 and 6 can also be executed and edited here (external link)](http://www.glowscript.org/#/user/engelhardt.larry/folder/My_Programs/program/magneticresonance)**"
   ]
  },
  {
   "cell_type": "markdown",
   "metadata": {},
   "source": [
    "This is an IPython notebook, which consists of multiple \"cells\" much like a Mathematica or Maple notebook.  The cells in this notebook contain the following items:\n",
    "\n",
    "1. Interactive plots, which can be accessed using the links above or by scrolling down.\n",
    "2. Source code, written in the Python programming language, that is used to simulate and visualize the phenomenon of magnetic resonance.\n",
    "3. Text and equations describing what is being done in each cell of this notebook.\n",
    "4. Plots and animations that have been produced as a result of executing this source code."
   ]
  },
  {
   "cell_type": "markdown",
   "metadata": {},
   "source": [
    "The following cell contains the first lines of Python code.  These lines import the necessary libraries and set the preferences that will be used to create plots later in the notebook."
   ]
  },
  {
   "cell_type": "code",
   "execution_count": null,
   "metadata": {},
   "outputs": [],
   "source": [
    "# The following line specifies to display plot \"inline\" within the ipython notebook\n",
    "%matplotlib inline\n",
    "import matplotlib as mpl # Used on the following line to set plot preferences\n",
    "mpl.rcParams.update({'figure.dpi':200,'figure.figsize':(12,8),'figure.max_open_warning':200,\\\n",
    "                 'font.size':26,'xtick.labelsize':20,'ytick.labelsize':20})\n",
    "from matplotlib.pyplot import *    # Plotting library\n",
    "from numpy import *                # Numerical library\n",
    "from scipy.integrate import odeint # Used to numerically solve systems of ODEs"
   ]
  },
  {
   "cell_type": "markdown",
   "metadata": {},
   "source": [
    "## Sec II: Theory"
   ]
  },
  {
   "cell_type": "markdown",
   "metadata": {},
   "source": [
    "The following cell defines a new Python function which is described immediately below the cell."
   ]
  },
  {
   "cell_type": "code",
   "execution_count": null,
   "metadata": {},
   "outputs": [],
   "source": [
    "# Defines the system of ODEs in terms of RATES:\n",
    "def odeRates(variables, t, omega, omega0, omega1):\n",
    "    \"\"\"\n",
    "    To be used in odeint.  Returns the values of the DERIVATIVES.\n",
    "    Takes as input: (1) dynamical variables, \"variables\"\n",
    "                    (2) independent variable \"t\" (3) 3 parameters\n",
    "    \"\"\"\n",
    "    # Unpack the variables to make the math clearer below\n",
    "    aR, aI, bR, bI = variables\n",
    "    # DEFINES ODES:\n",
    "    aR_dot = +0.5 * (omega0*aI + omega1*cos(omega*t)*bI)\n",
    "    aI_dot = -0.5 * (omega0*aR + omega1*cos(omega*t)*bR)\n",
    "    bR_dot = -0.5 * (omega0*bI - omega1*cos(omega*t)*aI)\n",
    "    bI_dot = +0.5 * (omega0*bR - omega1*cos(omega*t)*aR)\n",
    "    # Return the list of rates, in the SAME ORDER as the variables:\n",
    "    return [aR_dot, aI_dot, bR_dot, bI_dot]"
   ]
  },
  {
   "cell_type": "markdown",
   "metadata": {},
   "source": [
    "In the cell above, a Python function named **odeRates** is defined which computes the rates,\n",
    "$$\\dot{a}_R = +\\frac{1}{2}\\left[ \\omega_0 a_I + \\omega_1 \\cos(\\omega t)b_I  \\right],$$\n",
    "$$\\dot{a}_I = -\\frac{1}{2}\\left[ \\omega_0 a_R + \\omega_1 \\cos(\\omega t) b_R  \\right],$$\n",
    "$$\\dot{b}_R = -\\frac{1}{2}\\left[ \\omega_0 b_I - \\omega_1 \\cos(\\omega t) a_I  \\right],$$\n",
    "$$\\dot{b}_I = +\\frac{1}{2}\\left[ \\omega_0 b_R - \\omega_1 \\cos(\\omega t) a_R  \\right]$$\n",
    "at a given moment in time, $t$, using the following four lines of code:\n",
    "\n",
    "    aR_dot = +0.5 * (omega0*aI + omega1*cos(omega*t)*bI)\n",
    "    aI_dot = -0.5 * (omega0*aR + omega1*cos(omega*t)*bR)\n",
    "    bR_dot = -0.5 * (omega0*bI - omega1*cos(omega*t)*aI)\n",
    "    bI_dot = +0.5 * (omega0*bR - omega1*cos(omega*t)*aR)\n",
    "    \n",
    "The correspondence between the mathematical equations and these four lines of code should be very clear.  Note that all of the variables and parameters that appear on the right-hand side of these equations are provided as input to this function on the line\n",
    "\n",
    "    def odeRates(variables, t, omega, omega0, omega1):\n",
    "\n",
    "and the computed rates are returned as the output of the function on the line\n",
    "\n",
    "    return [aR_dot, aI_dot, bR_dot, bI_dot]\n",
    "    \n",
    "The following cell defines another function, named **prob_down**, in which these rates will be used to compute $a_R(t)$, $a_I(t)$, $b_R(t)$, and $b_I(t)$.  The function **prob_down** is described in more detail below."
   ]
  },
  {
   "cell_type": "code",
   "execution_count": null,
   "metadata": {
    "collapsed": true
   },
   "outputs": [],
   "source": [
    "def prob_down(psi0, tArray, parameters):\n",
    "     # Solves the ODEs (odeint imported from scipy.integrate)\n",
    "    results = odeint(odeRates, psi0, tArray, args=parameters)\n",
    "    return results[:,2]**2 + results[:,3]**2 # p_b (probability of spin down)"
   ]
  },
  {
   "cell_type": "markdown",
   "metadata": {},
   "source": [
    "The function above takes three variables (also listed in Sec. III of the paper) as input:\n",
    "\n",
    "1. **psi0** will contain the initial values: $a_R(0)$, $a_I(0)$, $b_R(0)$, and $b_I(0)$\n",
    "2. **tArray** will contain an array of many uniformly-spaced values of time, $t$.\n",
    "3. **parameters** will contain the values of the constant parameters: $\\omega$, $\\omega_0$, and $\\omega_1$.\n",
    "\n",
    "Using these variables, and function **odeRates** that is defined above, the following line computes the value of $a_R(t)$, $a_I(t)$, $b_R(t)$, and $b_I(t)$ for every value of $t$ in the array **tArray**:\n",
    "\n",
    "    results = odeint(odeRates, psi0, tArray, args=parameters)\n",
    "    \n",
    "After this line is executed, **results** is a two-dimensional array.  The first index of the array corresponds to time, and the second index of the array identifies the variable of interest:\n",
    "- Index = 0 for $a_R$\n",
    "- Index = 1 for $a_I$\n",
    "- Index = 2 for $b_R$\n",
    "- Index = 3 for $b_I$.\n",
    "\n",
    "Finally, this function returns the following:\n",
    "\n",
    "    return results[:,2]**2 + results[:,3]**2 # p_b (probability of spin down)\n",
    "\n",
    "This returns an array containing $p_b(t) = b_R^2(t)+b_I^2(t)$, which is the probability of measuring \"spin down\" at time $t$ for every value of $t$ in the array **tArray**."
   ]
  },
  {
   "cell_type": "markdown",
   "metadata": {},
   "source": [
    "## Sec. III: Simulations"
   ]
  },
  {
   "cell_type": "markdown",
   "metadata": {},
   "source": [
    "The following cell defines the parameters that will be used for the simulations:"
   ]
  },
  {
   "cell_type": "code",
   "execution_count": null,
   "metadata": {},
   "outputs": [],
   "source": [
    "## PARAMETERS TO BE ADJUSTED ##\n",
    "\n",
    "# Parameters defining the magnetic field:\n",
    "omega0 = 1.0;  omega1 = 0.1  # Magnitudes (GHz)\n",
    "omega = 1.0   # Angular frequency (GHz)\n",
    "\n",
    "# Will be used to define time array:\n",
    "tMax = 200; dt = 0.1  # (in nanoseconds)\n",
    "\n",
    "# Initial conditions (real & imaginary parts):\n",
    "aR = 1.0;  aI = 0.0     # a: Up   (+)\n",
    "bR = 0.0;  bI = 0.0     # b: Down (-)\n",
    "\n",
    "################################\n",
    "# The parameters above generate these:\n",
    "tArray = arange(0, tMax, dt)    # Array of time values\n",
    "initialCond = (aR, aI, bR, bI)  # Initial conditions\n",
    "param = (omega, omega0, omega1) # Other parameters"
   ]
  },
  {
   "cell_type": "code",
   "execution_count": null,
   "metadata": {},
   "outputs": [],
   "source": [
    "p_b = prob_down(initialCond, tArray, param)\n",
    "\n",
    "plot(tArray, p_b, linewidth=3)\n",
    "xlabel('Time (nanoseconds)')\n",
    "ylabel('Probability, $p_b(t)$')\n",
    "grid(True)\n",
    "savefig('fig1.eps'); show() # Saves image to disk and shows in notebook"
   ]
  },
  {
   "cell_type": "markdown",
   "metadata": {},
   "source": [
    "**Figure 1**: Simulation of $p_b(t)$ using the initial conditions $a_R=1$ and $a_I=b_R=b_I=0$ (spin up at time $t=0$) and parameter values $\\omega = \\omega_0 = 1.0$ GHz and $\\omega_1=0.1$ GHz."
   ]
  },
  {
   "cell_type": "markdown",
   "metadata": {},
   "source": [
    "Next, we will make an ***interactive*** version of Fig. 1. In order to do this, we will define a function (below) that will create and return this figure for a given value of the parameters."
   ]
  },
  {
   "cell_type": "code",
   "execution_count": null,
   "metadata": {},
   "outputs": [],
   "source": [
    "tMax = 200; dt = 0.05        # Time (in nanoseconds)\n",
    "tArray = arange(0, tMax, dt) # Array of time values\n",
    "\n",
    "def probability_plot(omega=1.0, omega1=0.1, omega0=1.0):\n",
    "    param = (omega, omega0, omega1)\n",
    "    p_b = prob_down(initialCond, tArray, param)\n",
    "    # The following lines create and return the plot\n",
    "    fig, ax = subplots(figsize=(15, 7), dpi=50)\n",
    "    ax.plot(tArray, p_b, linewidth=2)\n",
    "    title('$\\omega_{0} = $ '+str(omega0)+' GHZ,  '\\\n",
    "          +'$\\omega = $ '+str(omega)+' GHZ,  and  '\\\n",
    "          + '$\\omega_{1} = $ ' +str(omega1)+' GHz',\n",
    "             fontsize=26)\n",
    "    xlabel('Time (nanoseconds)', fontsize=26)\n",
    "    ylabel('Probability, $P_b(t)$', fontsize=26)\n",
    "    xlim([0, tMax])\n",
    "    ylim([0, 1.02])\n",
    "    grid(True)\n",
    "    show()"
   ]
  },
  {
   "cell_type": "markdown",
   "metadata": {},
   "source": [
    "Note that the **probability_plot** function takes two things as input: $\\omega$ and $\\omega_1$.\n",
    "\n",
    "The following cell provides *ranges* of values for $\\omega$ and $\\omega_1$ which will be used to create sliders in order to interactively explore the results from **probability_plot**.\n",
    "<a id='fig_1'></a>"
   ]
  },
  {
   "cell_type": "code",
   "execution_count": null,
   "metadata": {},
   "outputs": [],
   "source": [
    "from IPython.html.widgets import interact, interactive\n",
    "\n",
    "interact(probability_plot, omega =(0.9, 1.1, 0.01),\n",
    "                           omega1=(0.02, 0.2, 0.02),\n",
    "                           omega0=(0.9, 1.1, 0.01))"
   ]
  },
  {
   "cell_type": "markdown",
   "metadata": {},
   "source": [
    "**Interactive version of Figure 1**: Drag the sliders to explore how $p_b(t)$ dependes on both $\\omega$ and $\\omega_1$ for a fixed value of $\\omega_0=1.0$ GHz."
   ]
  },
  {
   "cell_type": "markdown",
   "metadata": {},
   "source": [
    "Below we repeat the simulation, but now we calculate the flipping probability, $p_{flip}$, which is the maximum value of $p_b(t)$ that is achieved for *any* value of $t$. This is repeated for many different values of $\\omega$ in order to plot $p_{flip}$ versus $\\omega$.\n",
    "\n",
    "The cell below defines the parameter values to be used in order to calculate and plot $p_{flip}(\\omega)$."
   ]
  },
  {
   "cell_type": "code",
   "execution_count": null,
   "metadata": {},
   "outputs": [],
   "source": [
    "omegaMin = 0.9; omegaMax = 1.1 # Used to create array below\n",
    "omega0 = 1.0  # Magnitude in GHz\n",
    "# Use logarithmic spacing to get more data points in the middle of the range:\n",
    "omegaRight = logspace(log10(0.001), log10(0.5*(omegaMax-omegaMin)), 20)\n",
    "omegaLeft = -omegaRight[::-1]\n",
    "omegaLeft = append(omegaLeft, 0)\n",
    "omegaArray = append(omegaLeft, omegaRight)\n",
    "omegaArray = omegaArray + 0.5*(omegaMax+omegaMin)\n",
    "\n",
    "#omegaMin = 0.9; omegaMax = 1.1; omegaStep = 0.002\n",
    "#omegaArray = arange(omegaMin, omegaMax, omegaStep)\n",
    "#omega0 = 1.0  # Magnitude in GHz\n",
    "\n",
    "#tMax = 1000; dt = 0.1  # (in nanoseconds)\n",
    "#tArray = arange(0, tMax, dt)    # Array of time values\n",
    "\n",
    "# Initial conditions (real & imaginary parts):\n",
    "aR = 1.0;  aI = 0.0     # a: Up   (+)\n",
    "bR = 0.0;  bI = 0.0     # b: Down (-)\n",
    "initialCond = (aR, aI, bR, bI)  # Initial conditions\n",
    "\n",
    "N = size(omegaArray) # Number of omega values\n",
    "pArray = zeros(N)    # To store probability for each omega"
   ]
  },
  {
   "cell_type": "markdown",
   "metadata": {},
   "source": [
    "The following cell calculates and plots $p_{flip}$ versus $\\omega$ for two different values of $\\omega_1$."
   ]
  },
  {
   "cell_type": "code",
   "execution_count": null,
   "metadata": {},
   "outputs": [],
   "source": [
    "omega1 = 0.10 # First simulate using this value of omega1\n",
    "tMax = 2.1*pi/omega1\n",
    "tArray = linspace(0, tMax, 100)\n",
    "for i in range(N):   # Loop through many value of omega\n",
    "    omega = omegaArray[i]\n",
    "    param = (omega, omega0, omega1)\n",
    "    p_b = prob_down(initialCond, tArray, param)\n",
    "    pArray[i] = max(p_b)\n",
    "plot(omegaArray, pArray, '-', linewidth=3)\n",
    "\n",
    "omega1 = 0.01 # Repeat using a different value of omega1\n",
    "tMax = 2.1*pi/omega1\n",
    "tArray = linspace(0, tMax, 100)\n",
    "for i in range(N):   # Loop through many value of omega\n",
    "    omega = omegaArray[i]\n",
    "    param = (omega, omega0, omega1)\n",
    "    p_b = prob_down(initialCond, tArray, param)\n",
    "    pArray[i] = max(p_b)\n",
    "plot(omegaArray, pArray, 'r--', linewidth=3)\n",
    "\n",
    "xlabel('$\\omega$ (GHz)')\n",
    "ylabel('Flipping Probability')\n",
    "xlim([0.9, 1.1]);  ylim([1e-5, 1.1])\n",
    "grid(True)\n",
    "savefig('fig2.eps'); show() # Saves image to disk and shows in notebook"
   ]
  },
  {
   "cell_type": "markdown",
   "metadata": {},
   "source": [
    "**Figure 2**: Simulation of $p_{flip}(\\omega)$ using the initial conditions $a_R=1$ and $a_I=b_R=b_I=0$ (spin up at time $t=0$) with parameter values $\\omega_0=1.0$ GHz and two different values of $\\omega_1$: $\\omega_1=0.1$ GHz (solid curve) and 0.01 GHz (dashed curve)."
   ]
  },
  {
   "cell_type": "markdown",
   "metadata": {},
   "source": [
    "Next, we make an interactive version of Figure 2 by first defining a function that will return a figure and then providing a range of values for $\\omega_1$."
   ]
  },
  {
   "cell_type": "code",
   "execution_count": null,
   "metadata": {
    "collapsed": true
   },
   "outputs": [],
   "source": [
    "def flipping_plot(log10_omega1=-1, yAxisScale='Linear'):\n",
    "    omega1 = 10**log10_omega1 # Converts from log-scale of slider\n",
    "    tMax = 2.1*pi/omega1\n",
    "    tArray = linspace(0, tMax, 100)\n",
    "    for i in range(N):   # Loop through many value of omega\n",
    "        omega = omegaArray[i]\n",
    "        param = (omega, omega0, omega1)\n",
    "        p_b = prob_down(initialCond, tArray, param)\n",
    "        pArray[i] = max(p_b)\n",
    "    fig, ax = subplots(figsize=(15, 7), dpi=50)\n",
    "    ax.plot(omegaArray, pArray, '-o', linewidth=2)\n",
    "    if (yAxisScale == 'Linear'):\n",
    "        ax.set_yscale(\"linear\")\n",
    "    else:\n",
    "        ax.set_yscale(\"log\")\n",
    "    omega1text = '%.3f' % omega1 # SHOW 3 DIGITS AFTER THE DECIMAL\n",
    "    title('$\\omega_{1} = $ ' + omega1text +' GHz', fontsize=26)\n",
    "    xlabel('$\\omega$ (GHz)', fontsize=26)\n",
    "    ylabel('Flipping Probability', fontsize=26)\n",
    "    xlim([0.9, 1.1]);  ylim([1e-5, 1.1])\n",
    "    grid(True)\n",
    "    show()"
   ]
  },
  {
   "cell_type": "markdown",
   "metadata": {},
   "source": [
    "Note that the **flipping_plot** function takes two things as input: $\\log_{10}(\\omega_1)$ and whether or not to use a logarithmic scale for the plot.  The following cell provides a range of values for $\\log_{10}(\\omega_1)$ which will be used to create a slider in order to interactively explore the results from **flipping_plot**.\n",
    "<a id='fig_2'></a>"
   ]
  },
  {
   "cell_type": "code",
   "execution_count": null,
   "metadata": {},
   "outputs": [],
   "source": [
    "from IPython.html.widgets import interact, interactive\n",
    "\n",
    "interact(flipping_plot, log10_omega1=(-3, -1, 0.5),\n",
    "                        yAxisScale=('Linear', 'Logarithmic'))"
   ]
  },
  {
   "cell_type": "markdown",
   "metadata": {},
   "source": [
    "**Interactive version of Figure 2**:  **NOTE: It will probably take a few seconds for the plot to update since the porgram needs to loop through several values of $\\omega$.** Drag the sliders to explore how the flipping probability dependes on $\\omega_1$ for a fixed value of $\\omega_0=1.0$ GHz. You can also use the radio button to switch to a logarithmic scale for the vertical axis."
   ]
  },
  {
   "cell_type": "markdown",
   "metadata": {},
   "source": [
    "## Sec IV: Spectral analysis\n",
    "\n",
    "In the cell below, we define a function, **computePowerSpectrum**, that will compute and return the power spectrum, $Y(f)$ (the modulus squared of the Fourier transform), as a function of frequency, $f$. In the cell below, the line\n",
    "\n",
    "    powerSpectrum[0] = 0\n",
    "    \n",
    "subtracts off the DC offset that is always present in $p_b(t)$ since $p_b(t)$ can never be negative (since it is a probability)."
   ]
  },
  {
   "cell_type": "code",
   "execution_count": null,
   "metadata": {
    "collapsed": true
   },
   "outputs": [],
   "source": [
    "from numpy.fft import rfft, rfftfreq # Import functions for Fourier transform\n",
    "\n",
    "def computePowerSpectrum(initialCond, tArray, param):\n",
    "    p_b = prob_down(initialCond, tArray, param)\n",
    "    fourierTransform = rfft(p_b)\n",
    "    powerSpectrum = abs(fourierTransform)**2\n",
    "    powerSpectrum[0] = 0 # Remove the DC (zero frequency) vertical offset\n",
    "    n = size(tArray)\n",
    "    frequencies = rfftfreq(n, d=dt)\n",
    "    omegaPrime = 2*pi*frequencies\n",
    "    return omegaPrime, powerSpectrum"
   ]
  },
  {
   "cell_type": "code",
   "execution_count": null,
   "metadata": {
    "collapsed": true
   },
   "outputs": [],
   "source": [
    "# Initial conditions (real & imaginary parts):\n",
    "aR = 1.0;  aI = 0.0     # a: Up   (+)\n",
    "bR = 0.0;  bI = 0.0     # b: Down (-)\n",
    "initialCond = (aR, aI, bR, bI)  # Initial conditions"
   ]
  },
  {
   "cell_type": "code",
   "execution_count": null,
   "metadata": {},
   "outputs": [],
   "source": [
    "omega0 = 1.0;  omega1 = 0.10  # Magnitudes (GHz)\n",
    "tMax = 10000; dt = 0.1        # (in nanoseconds)\n",
    "tArray = arange(0, tMax, dt)  # Array of time values\n",
    "\n",
    "figure() # Creates a single figure that will hold multiple curves\n",
    "\n",
    "omega = 0.1\n",
    "param = (omega, omega0, omega1)\n",
    "omegaPrime, Y = computePowerSpectrum(initialCond, tArray, param)\n",
    "plot(omegaPrime, Y, '-', linewidth=2, label='$\\omega$ = '+str(omega)+' GHz')\n",
    "\n",
    "omega = 0.2\n",
    "param = (omega, omega0, omega1)\n",
    "omegaPrime, Y = computePowerSpectrum(initialCond, tArray, param)\n",
    "plot(omegaPrime, Y, '--', linewidth=3, label='$\\omega$ = '+str(omega)+' GHz')\n",
    "\n",
    "box = legend(fontsize=22, frameon = 1)\n",
    "box.get_frame().set_facecolor('white') # Solid white background for legend\n",
    "xlabel('$\\omega^{\\prime}$ (GHz)')\n",
    "ylabel('Power Spectrum (arb. units)')\n",
    "xlim([0, 1.4]); ylim([0, 17000])\n",
    "grid(True)"
   ]
  },
  {
   "cell_type": "markdown",
   "metadata": {},
   "source": [
    "**Figure 3 (main figure)**: The power spectrum, $Y(\\omega^{\\prime})$, versus $\\omega^{\\prime}$ using parameter values $\\omega_0=1.0$ GHz and $\\omega_1=0.1$ GHz for two different values of $\\omega$ and arbitrary initial conditions."
   ]
  },
  {
   "cell_type": "code",
   "execution_count": null,
   "metadata": {},
   "outputs": [],
   "source": [
    "omegaArray = [0.6, 0.7, 0.8, 0.9]\n",
    "lineStyles = ['-.', '--', ':', '-']\n",
    "numCurves = len(omegaArray)\n",
    "\n",
    "omega0 = 1.0;  omega1 = 0.10  # Magnitudes (GHz)\n",
    "tMax = 10000; dt = 0.1  # (in nanoseconds)\n",
    "tArray = arange(0, tMax, dt)    # Array of time values\n",
    "\n",
    "figure()\n",
    "for i in range(numCurves):\n",
    "    omega = omegaArray[i]\n",
    "    param = (omega, omega0, omega1)\n",
    "    omegaPrime, Y = computePowerSpectrum(initialCond, tArray, param)\n",
    "    plot(omegaPrime, Y, lineStyles[i], linewidth=3, label='$\\omega$ = '+str(omega)+' GHz')\n",
    "    \n",
    "box = legend(fontsize=22, frameon = 1)\n",
    "box.get_frame().set_facecolor('white') # Solid white background for legend\n",
    "yscale('log')\n",
    "xlabel('$\\omega^{\\prime}$ (GHz)')\n",
    "ylabel('Power Spectrum (arb. units)')\n",
    "xlim([0, 0.5]); ylim([10**-1, 10**9])\n",
    "grid(True)\n",
    "show()"
   ]
  },
  {
   "cell_type": "markdown",
   "metadata": {},
   "source": [
    "**Figure 3 (inset)**: The power spectrum, $Y(\\omega^{\\prime})$, versus $\\omega^{\\prime}$ using parameter values $\\omega_0=1.0$ GHz and $\\omega_1=0.1$ GHz for four different values of $\\omega$ and arbitrary initial conditions."
   ]
  },
  {
   "cell_type": "markdown",
   "metadata": {},
   "source": [
    "In the next cell, we now combine the two previous cell in order to create a single figure with one plot as the main figure and one plot as an inset."
   ]
  },
  {
   "cell_type": "code",
   "execution_count": null,
   "metadata": {},
   "outputs": [],
   "source": [
    "omega0 = 1.0;  omega1 = 0.10  # Magnitudes (GHz)\n",
    "tMax = 10000; dt = 0.1  # (in nanoseconds)\n",
    "tArray = arange(0, tMax, dt)    # Array of time values\n",
    "\n",
    "figure() # Creates a single figure that will hold multiple curves\n",
    "\n",
    "###### MAIN FIGURE #######\n",
    "\n",
    "omega = 0.1\n",
    "param = (omega, omega0, omega1)\n",
    "omegaPrime, Y = computePowerSpectrum(initialCond, tArray, param)\n",
    "plot(omegaPrime, Y, '-', linewidth=2, label='$\\omega$ = '+str(omega)+' GHz')\n",
    "\n",
    "omega = 0.2\n",
    "param = (omega, omega0, omega1)\n",
    "omegaPrime, Y = computePowerSpectrum(initialCond, tArray, param)\n",
    "plot(omegaPrime, Y, '--', linewidth=3, label='$\\omega$ = '+str(omega)+' GHz')\n",
    "\n",
    "box = legend(fontsize=22, frameon = 1)\n",
    "box.get_frame().set_facecolor('white') # Solid white background for legend\n",
    "xlabel('$\\omega^{\\prime}$ (GHz)')\n",
    "ylabel('Power Spectrum (arb. units)')\n",
    "xlim([0, 1.4]); ylim([0, 17000])\n",
    "\n",
    "####### INSET ########\n",
    "a = axes([0.21, 0.35, .3, .5], axisbg='white') # Inset: position & size\n",
    "\n",
    "omegaArray = [0.6, 0.7, 0.8, 0.9]\n",
    "lineStyles = ['-.', '--', ':', '-']\n",
    "numCurves = len(omegaArray)\n",
    "\n",
    "for i in range(numCurves):\n",
    "    omega = omegaArray[i]\n",
    "    param = (omega, omega0, omega1)\n",
    "    omegaPrime, Y = computePowerSpectrum(initialCond, tArray, param)\n",
    "    if i == 2: # Make the dotted curve thicker & black to show up better\n",
    "        plot(omegaPrime, Y, lineStyles[i], color='black', linewidth=4, label='$\\omega$ = '+str(omega)+' GHz')\n",
    "    else:\n",
    "        plot(omegaPrime, Y, lineStyles[i], linewidth=3, label='$\\omega$ = '+str(omega)+' GHz')\n",
    "    \n",
    "box = legend(fontsize=14, frameon = 1)\n",
    "box.get_frame().set_facecolor('white') # Solid white background for legend\n",
    "yscale('log')\n",
    "xlim([0, 0.5]); ylim([10**-1, 10**10])\n",
    "grid(True)\n",
    "savefig('fig3.eps'); show() # Saves image to disk and shows in notebook"
   ]
  },
  {
   "cell_type": "markdown",
   "metadata": {},
   "source": [
    "**Figure 3**: The power spectrum, $Y(\\omega^{\\prime})$, versus $\\omega^{\\prime}$ using parameter values $\\omega_0=1.0$ GHz and $\\omega_1=0.1$ GHz for several different values of $\\omega$ and arbitrary initial conditions."
   ]
  },
  {
   "cell_type": "markdown",
   "metadata": {},
   "source": [
    "Next, we will make an interactive version of Fig. 3. In order to do this, we will define a function (below) that will create and return this figure for a given value of the parameters."
   ]
  },
  {
   "cell_type": "code",
   "execution_count": null,
   "metadata": {},
   "outputs": [],
   "source": [
    "omega0 = 1.0 # in GHz\n",
    "tMax = 10000; dt = 0.1  # (in nanoseconds)\n",
    "tArray = arange(0, tMax, dt)    # Array of time values\n",
    "\n",
    "def spectrum1_plot(omega=0.5, omega1=0.1, yAxisScale='Linear'):\n",
    "    param = (omega, omega0, omega1)\n",
    "    omegaPrime, Y = computePowerSpectrum(initialCond, tArray, param)\n",
    "    # The following lines create and return the plot\n",
    "    fig, ax = subplots(figsize=(15, 7), dpi=50)\n",
    "    ax.plot(omegaPrime, Y, linewidth=2)\n",
    "    if (yAxisScale == 'Logarithmic'):\n",
    "        ax.set_yscale(\"log\")\n",
    "        ylim([1e-1, 1e9])\n",
    "    else:\n",
    "        ax.set_yscale(\"linear\")\n",
    "    title( '$\\omega_{0} = $ '+str(omega0)+' GHZ,  '\\\n",
    "          +'$\\omega_{1} = $ '+str(omega1)+' GHz,  and  '\\\n",
    "          +'$\\omega = $ '+str(omega)+' GHZ',\\\n",
    "             fontsize=26)\n",
    "    xlabel('$\\omega^{\\prime}$ (GHz)', fontsize=26)\n",
    "    ylabel('Power Spectrum (arb. units)', fontsize=26)\n",
    "    xlim([0, 1.5])# ;  ylim([1e-5, 1.1])\n",
    "    grid(True)\n",
    "    show()"
   ]
  },
  {
   "cell_type": "markdown",
   "metadata": {},
   "source": [
    "Note that the **spectrum1_plot** function takes three things as input: $\\omega$, $\\omega_1$, and whether or not to use a logarithmic scale for the plot.  The following cell provides ranges of values for $\\omega$ and $\\omega_1$ which will be used to create a slider in order to interactively explore the results from **spectrum1_plot**.\n",
    "<a id='fig_3'></a>"
   ]
  },
  {
   "cell_type": "code",
   "execution_count": null,
   "metadata": {},
   "outputs": [],
   "source": [
    "from IPython.html.widgets import interact, interactive\n",
    "\n",
    "interact(spectrum1_plot,\n",
    "         omega =(0.1, 0.9, 0.1),\n",
    "         omega1=(0.1, 0.2, 0.1),\n",
    "         yAxisScale=('Linear', 'Logarithmic'))"
   ]
  },
  {
   "cell_type": "markdown",
   "metadata": {},
   "source": [
    "**Interactive version of Figure 3**: Drag the sliders to explore how the power spectrum dependes on $\\omega$ and $\\omega_1$ for a fixed value of $\\omega_0=1.0$ GHz. You can also use the radio button to switch to a logarithmic scale for the vertical axis.  To explore what happens when $\\omega=\\omega_0$, use the interactive version of Figure 4 (below)."
   ]
  },
  {
   "cell_type": "markdown",
   "metadata": {},
   "source": [
    "In the following cell, we will again compute the power spectrum, just as we did above, but now for $\\omega=\\omega_0$."
   ]
  },
  {
   "cell_type": "code",
   "execution_count": null,
   "metadata": {},
   "outputs": [],
   "source": [
    "omega1_Array = [0.1, 0.2, 0.5]\n",
    "lineStyles = ['-', '--', ':']\n",
    "numCurves = len(omega1_Array)\n",
    "\n",
    "omega0 = 1.0;  omega = 1.0  # Magnitudes (GHz)\n",
    "tMax = 10000; dt = 0.1  # (in nanoseconds)\n",
    "tArray = arange(0, tMax, dt)    # Array of time values\n",
    "\n",
    "figure()\n",
    "for i in range(numCurves):\n",
    "    omega1 = omega1_Array[i]\n",
    "    param = (omega, omega0, omega1)\n",
    "    omegaPrime, Y = computePowerSpectrum(initialCond, tArray, param)\n",
    "    if i == 2: # Make the dotted curve thicker & black to show up better\n",
    "        plot(omegaPrime, Y, lineStyles[i], color='black', linewidth=4, label='$\\omega_1$ = '+str(omega1)+' GHz')\n",
    "    else:\n",
    "        plot(omegaPrime, Y, lineStyles[i], linewidth=3, label='$\\omega_1$ = '+str(omega1)+' GHz')\n",
    "    \n",
    "box = legend(fontsize=22, frameon = 1)\n",
    "box.get_frame().set_facecolor('white') # Solid white background for legend\n",
    "yscale('log')\n",
    "xlabel('$\\omega^{\\prime}$ (GHz)')\n",
    "ylabel('Power Spectrum (arb. units)')\n",
    "xlim([0, 2.5]); ylim([10**1, 10**9])\n",
    "grid(True)\n",
    "savefig('fig4.eps'); show() # Saves image to disk and shows in notebook"
   ]
  },
  {
   "cell_type": "markdown",
   "metadata": {},
   "source": [
    "**Figure 4**: The power spectrum, $Y(\\omega^{\\prime})$, versus $\\omega^{\\prime}$ for $\\omega=\\omega_0=1.0$ GHz (at resonance) for three different values of $\\omega_1$ and arbitrary initial conditions."
   ]
  },
  {
   "cell_type": "markdown",
   "metadata": {},
   "source": [
    "Next, we will make an interactive version of Fig. 4. In order to do this, we will define a function (below) that will create and return this figure for a given value of the parameters."
   ]
  },
  {
   "cell_type": "code",
   "execution_count": null,
   "metadata": {},
   "outputs": [],
   "source": [
    "tMax = 10000; dt = 0.1  # (in nanoseconds)\n",
    "tArray = arange(0, tMax, dt)    # Array of time values\n",
    "\n",
    "def spectrum2_plot(omega0=1.0, omega1=0.1, yAxisScale='Linear'):\n",
    "    omega = omega0\n",
    "    param = (omega, omega0, omega1)\n",
    "    omegaPrime, Y = computePowerSpectrum(initialCond, tArray, param)\n",
    "    # The following lines create and return the plot\n",
    "    fig, ax = subplots(figsize=(15, 7), dpi=50)\n",
    "    ax.plot(omegaPrime, Y, linewidth=2)\n",
    "    if (yAxisScale == 'Logarithmic'):\n",
    "        ax.set_yscale(\"log\")\n",
    "        ylim([1e-1, 1e9])\n",
    "    else:\n",
    "        ax.set_yscale(\"linear\")\n",
    "    title( '$\\omega_{0} = $ '+str(omega0)+' GHZ,  '\\\n",
    "          +'$\\omega_{1} = $ '+str(omega1)+' GHz,  and  '\\\n",
    "          +'$\\omega = $ '+str(omega)+' GHZ',\\\n",
    "             fontsize=26)\n",
    "    xlabel('$\\omega^{\\prime}$ (GHz)', fontsize=26)\n",
    "    ylabel('Power Spectrum (arb. units)', fontsize=26)\n",
    "    xlim([0, 2.5])# ;  ylim([1e-5, 1.1])\n",
    "    grid(True)"
   ]
  },
  {
   "cell_type": "markdown",
   "metadata": {},
   "source": [
    "Note that the **spectrum2_plot** function takes three things as input: $\\omega_0$, $\\omega_1$, and whether or not to use a logarithmic scale for the plot.  Within the function, $\\omega$ is set equal to $\\omega_0$.  The following cell provides ranges of values for $\\omega_0$ and $\\omega_1$ which will be used to create a slider in order to interactively explore the results from **spectrum2_plot**.\n",
    "<a id='fig_4'></a>"
   ]
  },
  {
   "cell_type": "code",
   "execution_count": null,
   "metadata": {},
   "outputs": [],
   "source": [
    "from IPython.html.widgets import interact, interactive\n",
    "\n",
    "interact(spectrum2_plot,\n",
    "         omega0 = (0.7, 1.1, 0.05),\n",
    "         omega1 = (0.05, 0.5, 0.05),\n",
    "         yAxisScale=('Linear', 'Logarithmic'))"
   ]
  },
  {
   "cell_type": "markdown",
   "metadata": {},
   "source": [
    "**Interactive version of Figure 4**: Drag the sliders to explore how the power spectrum dependes on $\\omega_0$ and $\\omega_1$ for $\\omega=\\omega_0$. You can also use the radio button to switch to a logarithmic scale for the vertical axis."
   ]
  },
  {
   "cell_type": "markdown",
   "metadata": {},
   "source": [
    "##Section V: Quantum spin vector and classical connection"
   ]
  },
  {
   "cell_type": "markdown",
   "metadata": {},
   "source": [
    "The following cell displays a JavaScript simulation that can be used to interactively explore the results from figures 5 and 6.\n",
    "<a id='figs_5_6'></a>"
   ]
  },
  {
   "cell_type": "code",
   "execution_count": null,
   "metadata": {},
   "outputs": [],
   "source": [
    "from IPython.display import IFrame\n",
    "IFrame('mr_3d_sim.html', width='100%', height=720)"
   ]
  },
  {
   "cell_type": "markdown",
   "metadata": {},
   "source": [
    "**Interactive version of Figures 5 and 6**: The simulation above can be used to create animated versions of Figs. 5 and 6 and to explore how these dynamics depend on each of the parameters.  This simulation was written in [GlowScript](http://www.glowscript.org/) which produces HTML+javascript code that can be run in any browser.\n",
    "\n",
    "The GlowScript source code is provided below as well as Python versions that use the ivisual library in order be able to modify and execute the code within an IPython notebook.  (The Python versions will not work in the HTML version of this notebook; they require IPython.)"
   ]
  },
  {
   "cell_type": "markdown",
   "metadata": {},
   "source": [
    "## GlowScript code for the simulation above:\n",
    "**(This code can also be viewed and executed [here](http://www.glowscript.org/#/user/engelhardt.larry/folder/My_Programs/program/magneticresonance)).**"
   ]
  },
  {
   "cell_type": "markdown",
   "metadata": {},
   "source": [
    "    GlowScript 1.1 JavaScript\n",
    "    scene.width  = 400\n",
    "    scene.height = 250\n",
    "    scene.background = color.white\n",
    "    scene.range = 0.55\n",
    "    scene.background = color.white\n",
    "    scene.up = vec(0,0,1)\n",
    "    scene.forward = vec(0,1,0)\n",
    "    distant_light( {direction:vec(0,-1,1)} )\n",
    "    distant_light( {direction:vec(-1,0,1)} )\n",
    "\n",
    "    var time_label = label( {pixel_pos:true, pos:vec(scene.width-50,10,0), box:false, text:'t = 0 ns'} )\n",
    "\n",
    "    // Parameters\n",
    "    var omega1 = 0.1;\n",
    "    var omega0 = 1.0;\n",
    "    var omega  = 0.0;\n",
    "    var aR = 1.0;\n",
    "    var aI = 0.0;\n",
    "    var bR = 0.0;\n",
    "    var bI = 0.0;\n",
    "    var psi = [aR, aI, bR, bI];\n",
    "    var t = 0, dt = 0.1;\n",
    "\n",
    "    function make_title() {\n",
    "        scene.title.html('Simulates the quantum spin vector &lt;<b>s</b>&gt; (black arrow) in\\n'+\n",
    "                             'a magnetic field (red arrow):  <font color=\"red\"><b>H</b></font> =[H<sub>1</sub>cos(&omega;t),  0,  H<sub>0</sub>]\\n\\n'+\n",
    "                         'To vary H<sub>0</sub> and H<sub>1</sub>, we define '+\n",
    "                         '&omega;<sub>0</sub> = g&mu;<sub>B</sub>H<sub>0</sub>/&#8463; and '+\n",
    "                         '&omega;<sub>1</sub> = g&mu;<sub>B</sub>H<sub>1</sub>/&#8463;.\\n'+\n",
    "                         '- CLICK \"BEGIN\", THEN VARY &omega;<sub>1</sub> USING THE FIRST SLIDER.\\n'+\n",
    "                         '- TO OSCILLATE AUTOMATICALLY, SET &omega; > 0.')\n",
    "    }\n",
    "\n",
    "    make_title()\n",
    "\n",
    "    // 3D objects\n",
    "    var spin  = arrow( {pos:vec(0,0,0), axis_and_length:vec(0,0,0.5), color:color.black, shaftwidth:0.02} )\n",
    "    var field = arrow( {pos:vec(0,0,0), axis_and_length:vec(0.5*omega1,0,0.5*omega0), color:color.red, shaftwidth:0.01} )\n",
    "    var trail = curve({color:color.green, radius: 0.01})\n",
    "\n",
    "    //// CREATING THE CONTROLS ////\n",
    "\n",
    "    $(\"<div id='controls1' style='display:flex; align-items:center; height:25px' />\").appendTo(scene.caption)\n",
    "        // Button to pause (running = false) or play (running = true)\n",
    "        var running = false;\n",
    "        $(\"<button id='play_button' style='width:60px; margin:10px; display:inline-block;' />\").text(\"BEGIN\")\n",
    "            .appendTo(controls1)\n",
    "            .click( function() {\n",
    "                running = !running\n",
    "                if (running) $(this).text(\"Pause\") \n",
    "                else $(this).text(\"Resume\")\n",
    "            })\n",
    "        // Controlling omega1\n",
    "        $(\"<p id='omega1_slider' style='width:180px; margin:10px; display:inline-block;'></p>\")\n",
    "                .appendTo(controls1)\n",
    "        $(\"<p id='omega1_label' style='display:inline-block; margin:10px;'></p>\")\n",
    "                .html(\"&omega;<sub>1</sub> = \"+omega1+\" GHz\")\n",
    "                .appendTo(controls1)\n",
    "\n",
    "\n",
    "    $(\"<div id='controls2' style='display:flex; align-items: center; height:30px;' />\").appendTo(scene.caption)\n",
    "        $(\"<p style='display:inline-block; margin:10px;'></p>\")\n",
    "                .html(\"Enter a number to change the max value of &omega;<sub>1</sub>:\")\n",
    "                .appendTo(controls2)\n",
    "        $(\"<input id='omega1_max_input' type='text' style='width:20px; margin:10px; display:inline-block;' />\")\n",
    "            .appendTo(controls2)\n",
    "            .keyup(function(){\n",
    "                 var slider_edges = parseFloat($(this).val());\n",
    "                $( \"#omega1_slider\" ).slider( \"option\", \"min\", -slider_edges);\n",
    "                $( \"#omega1_slider\" ).slider( \"option\", \"max\", +slider_edges);\n",
    "            });\n",
    "\n",
    "    $(\"<div id='controls3' style='display:flex; align-items: center; height:30px;' />\").appendTo(scene.caption)\n",
    "        // Reset button\n",
    "        $(\"<button style='width:60px; margin:10px;' />\").text(\"RESET\")\n",
    "            .appendTo(controls3)\n",
    "            .click( function() {\n",
    "                running = false;  $( \"#play_button\" ).text(\"BEGIN\");\n",
    "                t = 0.0;  time_label.text = 't = 0 ns';\n",
    "                omega1 = 0.1; omega0 = 1.0; omega = 0.0;\n",
    "                aR=1.0; aI=0; bR=0; bI=0;\n",
    "                psi = [aR, aI, bR, bI];\n",
    "                $( \"#omega1_slider\" ).slider( \"value\", omega1);\n",
    "                $( \"#omega0_slider\" ).slider( \"value\", omega0);\n",
    "                $( \"#omega_slider\"  ).slider( \"value\", omega );\n",
    "                $( \"#omega1_label\").html(\"&omega;<sub>1</sub> = \"+omega1+\" GHz\");\n",
    "                $( \"#omega0_label\").html(\"&omega;<sub>0</sub> = \"+omega0+\" GHz\");\n",
    "                $( \"#omega_label\").html(\"&omega; = \"+omega+\" GHz\");\n",
    "                field.axis_and_length = vec(0.5*omega1,0,0.5*omega0);\n",
    "                spin.axis_and_length = vec(0, 0, 0.5);\n",
    "                trail.clear();\n",
    "                scene.forward = vec(0,1,0);\n",
    "                $('select>option:eq(0)').prop('selected', true);\n",
    "            \n",
    "            })\n",
    "        // Drop-down menu to select which axis points into the screen\n",
    "        $(\"<p id='axis_menu' style='display:inline-block;' >  Axis pointing into the screen: </p>\").appendTo(controls3)\n",
    "        var s = \"\"\n",
    "        s += \"<option select=selected>+y</option>\"\n",
    "        s += \"<option>+x</option>\"\n",
    "        s += \"<option>-y</option>\"\n",
    "        s += \"<option>-x</option>\"\n",
    "        $('<select/>').html(s).css({font:\"sans\"})\n",
    "            .change(function() { // Picking an axis\n",
    "                switch ($(this).val()) {\n",
    "                    case \"+y\": \n",
    "                        scene.forward = vec(0,1,0)\n",
    "                        break;\n",
    "                    case \"+x\": \n",
    "                        scene.forward = vec(1,0,0)\n",
    "                        break;\n",
    "                    case \"-y\": \n",
    "                        scene.forward = vec(0,-1,0)\n",
    "                        break;\n",
    "                    case \"-x\": \n",
    "                        scene.forward = vec(-1,0,0)\n",
    "                        break;\n",
    "                }\n",
    "            })\n",
    "            .appendTo(controls3)\n",
    "            \n",
    "    $(\"<div id='controls4' style='display:flex; align-items: center; height:25px;' />\").appendTo(scene.caption)    \n",
    "        // Controlling omega\n",
    "        $(\"<p id='omega_slider' style='width:180px; display:inline-block; margin:10px;'></p>\")\n",
    "                .appendTo(controls4)\n",
    "        $(\"<p id='omega_label' style='display:inline-block; margin:10px;'></p>\")\n",
    "                .html(\"&omega; = \"+omega+\" GHz\")\n",
    "                .appendTo(controls4)\n",
    "\n",
    "    $(\"<div id='controls5' style='display:flex; align-items: center; height:25px;' />\").appendTo(scene.caption)\n",
    "        // Controlling omega0\n",
    "        $(\"<p id='omega0_slider' style='width:180px; display:inline-block; margin:10px;'></p>\")\n",
    "                .appendTo(controls5)\n",
    "        $(\"<p id='omega0_label' style='display:inline-block; margin:10px;'></p>\")\n",
    "                .html(\"&omega;<sub>0</sub> = \"+omega0+\" GHz\")\n",
    "                .appendTo(controls5)\n",
    "\n",
    "    var ready = 0 // To delay\n",
    "\n",
    "    // Define sliders properties\n",
    "    $(function(event, ui) { $( '#omega1_slider' ).slider({\n",
    "        orientation: \"horizontal\",\n",
    "        min: -0.1,\n",
    "        max: 0.1,\n",
    "        value: 0.1,\n",
    "        step: 0.01,\n",
    "        slide: function(event, ui) {\n",
    "                omega1 = ui.value;\n",
    "                $( \"#omega1_label\").html(\"&omega;<sub>1</sub> = \"+omega1+\" GHz\");\n",
    "                field.axis_and_length = vec(0.5*omega1,0,0.5*omega0)\n",
    "                }\n",
    "    })\n",
    "        ready++ // to prevent premature setting of slider value below\n",
    "    })\n",
    "    $(function() { $( '#omega_slider' ).slider({\n",
    "        orientation: \"horizontal\",\n",
    "        min: 0.0,\n",
    "        max: 1.5,\n",
    "        value: 0.0,\n",
    "        step: 0.01,\n",
    "        slide: function(event, ui) {\n",
    "                omega = ui.value;\n",
    "                $( \"#omega_label\").html(\"&omega; = \"+omega+\" GHz\");\n",
    "                }\n",
    "    })\n",
    "        ready++ // to prevent premature setting of slider value below\n",
    "    })\n",
    "    $(function() { $( '#omega0_slider' ).slider({\n",
    "        orientation: \"horizontal\",\n",
    "        min: 0.0,\n",
    "        max: 1.5,\n",
    "        value: 1.0,\n",
    "        step: 0.01,\n",
    "        slide: function(event, ui) {\n",
    "                omega0 = ui.value;\n",
    "                $( \"#omega0_label\").html(\"&omega;<sub>0</sub> = \"+omega0+\" GHz\");\n",
    "                field.axis_and_length = vec(0.5*omega1,0,0.5*omega0)\n",
    "                }\n",
    "    })\n",
    "        ready++ // to prevent premature setting of slider value below\n",
    "    })\n",
    "\n",
    "    while (ready < 2) {\n",
    "        rate(30,wait)\n",
    "    }\n",
    "\n",
    "    function display_instructions() {\n",
    "        var s = \"In GlowScript programs:\\n\\n\"\n",
    "        s += \"    To zoom, drag with the left+right mouse buttons,\\n\n",
    "                  or hold down the Alt key and drag,\\n\n",
    "                  or use the mouse wheel.\\n\\n\"\n",
    "        s += \"    Rotate the camera by dragging with the right mouse button,\\n\n",
    "                  or hold down the Ctrl key and drag.\\n\\n\"\n",
    "        s += \"Touch screen: pinch/extend to zoom, swipe or two-finger rotate.\"\n",
    "        $(\"<p/>\").html(s).appendTo(scene.caption)\n",
    "    }\n",
    "    // Display text below the 3D graphics:\n",
    "    display_instructions()\n",
    "\n",
    "    //// The rest of the code does the MATH ////\n",
    "\n",
    "    // For computations using complex matrices and vectors\n",
    "    get_library(\"http://www.numericjs.com/lib/numeric-1.2.6.js\", wait)\n",
    "\n",
    "    // Computes and returns the derivative for each of the 4 ODEs \n",
    "    function f(psi, t) {\n",
    "        var aR = psi[0], aI = psi[1], bR = psi[2], bI = psi[3];\n",
    "        var aR_dot = +0.5 * (omega0*aI + omega1*Math.cos(omega*t)*bI);\n",
    "        var aI_dot = -0.5 * (omega0*aR + omega1*Math.cos(omega*t)*bR);\n",
    "        var bR_dot = -0.5 * (omega0*bI - omega1*Math.cos(omega*t)*aI);\n",
    "        var bI_dot = +0.5 * (omega0*bR - omega1*Math.cos(omega*t)*aR);\n",
    "        return [aR_dot, aI_dot, bR_dot, bI_dot]\n",
    "    }\n",
    "\n",
    "    // For 4th order Runge-Kutta (RK4)\n",
    "    var k1 = [0, 0, 0, 0];\n",
    "    var k2 = [0, 0, 0, 0];\n",
    "    var k3 = [0, 0, 0, 0];\n",
    "    var k4 = [0, 0, 0, 0];\n",
    "    var psi1 = [0,0,0,0];\n",
    "    var psi2 = [0,0,0,0];\n",
    "    var psi3 = [0,0,0,0];\n",
    "    var derivs = [0, 0, 0, 0];\n",
    "\n",
    "    // Takes one time step forward using RK4\n",
    "    function RK4_step(psi, t, dt) {\n",
    "        var i;\n",
    "        // Compute k1\n",
    "        derivs = f(psi, t);\n",
    "        for (i = 0; i<4; i++) {\n",
    "            k1[i] = dt*derivs[i];\n",
    "        }\n",
    "        // Compute k2\n",
    "        for (i = 0; i<4; i++) {\n",
    "            psi1[i] = psi[i] + 0.5*k1[i];\n",
    "        }\n",
    "        derivs = f(psi1, t+0.5*dt)\n",
    "        for (i = 0; i<4; i++) {\n",
    "            k2[i] = dt*derivs[i];\n",
    "        }\n",
    "        // Compute k3\n",
    "        for (i = 0; i<4; i++) {\n",
    "            psi2[i] = psi[i] + 0.5*k2[i];\n",
    "        }\n",
    "        derivs = f(psi2, t+0.5*dt)\n",
    "        for (i = 0; i<4; i++) {\n",
    "            k3[i] = dt*derivs[i];\n",
    "        }\n",
    "        // Compute k4\n",
    "        for (i = 0; i<4; i++) {\n",
    "            psi3[i] = psi[i] + k3[i];\n",
    "        }\n",
    "        derivs = f(psi3, t+dt)\n",
    "        for (i = 0; i<4; i++) {\n",
    "            k4[i] = dt*derivs[i];\n",
    "        }\n",
    "        for (i = 0; i<4; i++) {\n",
    "            psi[i] = psi[i] + (k1[i] + 2*k2[i] + 2*k3[i] + k4[i])/6.0;\n",
    "        }    \n",
    "        return psi\n",
    "    }\n",
    "\n",
    "    // sx, sy, sz operators (in terms of Pauli spin matrices)\n",
    "    var c = 0.5\n",
    "    var sx = new numeric.T( [[0,c], [c,0]], [[0,0], [0,0]] )\n",
    "    var sy = new numeric.T( [[0,0], [0,0]], [[0,-c], [c,0]] )\n",
    "    var sz = new numeric.T( [[c,0], [0,-c]], [[0,0], [0,0]] )\n",
    "\n",
    "    while (true) {\n",
    "        rate(30,wait)\n",
    "        if (running) {\n",
    "            aR = psi[0]; aI = psi[1]; bR = psi[2]; bI = psi[3];\n",
    "        \n",
    "            // Computing expectation value\n",
    "            var ket = new numeric.T([[aR],[bR]], [[aI],[bI]])\n",
    "            var bra = ket.transjugate()\n",
    "            var spin_x = bra.dot(sx.dot(ket)).x\n",
    "            var spin_y = bra.dot(sy.dot(ket)).x\n",
    "            var spin_z = bra.dot(sz.dot(ket)).x\n",
    "            var spin_vec = vec(spin_x, spin_y, spin_z)\n",
    "        \n",
    "            trail.push(spin_vec)\n",
    "            spin.axis_and_length = spin_vec\n",
    "            field.axis_and_length = vec(0.5*omega1*Math.cos(omega*t),0,0.5*omega0)\n",
    "        \n",
    "            psi = RK4_step(psi, t, dt)\n",
    "            time_label.text = 't = '+t.toFixed(1)+' ns'\n",
    "            t = t + dt;\n",
    "        }\n",
    "    }"
   ]
  },
  {
   "cell_type": "markdown",
   "metadata": {},
   "source": [
    "In order to execute GlowScript code directly within an IPython notebook, this needs to be done once to install \"glowscriptmagic\":\n",
    "    \n",
    "**%install_ext https://raw.githubusercontent.com/jcoady/GlowScriptMagic/master/glowscriptmagic.py**\n",
    "\n",
    "Then in each new notebook, this line needs to be executed before using glowscript:\n",
    "\n",
    "**%load_ext glowscriptmagic**\n",
    "\n",
    "Then you can execute VPython code in a cell using cell magic notation %% on the first line. The first line of a GlowScript version of a VPython program in a notebook cell will contain the following line:\n",
    "\n",
    "**%%GlowScript 1.1 VPython**\n",
    "\n",
    "Or a Javascript version will contain the following line:\n",
    "\n",
    "**%%GlowScript 1.1 JavaScript**\n",
    "\n",
    "This cell magic will take the contents of the cell and perform a Python-to-Javascript compilation on it and display the results of the 3D simulation running in javascript."
   ]
  },
  {
   "cell_type": "markdown",
   "metadata": {},
   "source": [
    "## The remainder of this notebooks provides Python code to compute and animate the results shown in Figs. 5 and 6 using the ivisual library.\n",
    "## Note:  This requires you to be running an ipython notebook.\n",
    "## For more about ivisual, see https://pypi.python.org/pypi/IVisual/"
   ]
  },
  {
   "cell_type": "markdown",
   "metadata": {},
   "source": [
    "###Larmor precession (static field, $\\omega=0$)\n",
    "\n",
    "The following cell computes $\\langle \\hat{\\vec{s}} \\rangle$ at several different times for the case of a static field, $\\vec{H} = H_0\\mathbf{z} + H_1\\mathbf{x}$; and then the next cell will create an animation showing how this vector evolves in three-dimensional space."
   ]
  },
  {
   "cell_type": "code",
   "execution_count": 1,
   "metadata": {},
   "outputs": [],
   "source": [
    "%matplotlib inline\n",
    "from pylab import *\n",
    "from scipy.integrate import odeint # Used to numerically solve systems of ODEs\n",
    "\n",
    "# Defines the system of ODEs in terms of RATES:\n",
    "def odeRates(variables, t, omega, omega0, omega1):\n",
    "    \"\"\"\n",
    "    To be used in odeint.  Returns the values of the DERIVATIVES.\n",
    "    Takes as input: (1) dynamical variables, \"variables\"\n",
    "                    (2) independent variable \"t\" (3) 3 parameters\n",
    "    \"\"\"\n",
    "    # Unpack the variables to make the math clearer below\n",
    "    aR, aI, bR, bI = variables\n",
    "    # DEFINES ODES:\n",
    "    aR_dot = +0.5 * (omega0*aI + omega1*cos(omega*t)*bI)\n",
    "    aI_dot = -0.5 * (omega0*aR + omega1*cos(omega*t)*bR)\n",
    "    bR_dot = -0.5 * (omega0*bI - omega1*cos(omega*t)*aI)\n",
    "    bI_dot = +0.5 * (omega0*bR - omega1*cos(omega*t)*aR)\n",
    "    # Return the list of rates, in the SAME ORDER as the variables:\n",
    "    return [aR_dot, aI_dot, bR_dot, bI_dot]\n",
    "\n",
    "# Parameters defining the magnetic field:\n",
    "omega = 0.0   # STATIC FIELD\n",
    "omega1 = 0.1  # Magnitude of H0 (GHz)\n",
    "omega0 = 1.0  # Magnitude of H0 (GHz)\n",
    "parameters = (omega, omega0, omega1)\n",
    "\n",
    "# Will be used to define time array:\n",
    "tMax = 1.5 * 2*pi/sqrt(omega0**2 + omega1**2)\n",
    "tArray = linspace(0, tMax, 500)  # Array of time values\n",
    "\n",
    "# Initial conditions (real & imaginary parts):\n",
    "aR = 1.0;  aI = 0.0     # a: Up   (+)\n",
    "bR = 0.0;  bI = 0.0     # b: Down (-)\n",
    "psi0 = (aR, aI, bR, bI)  # Initial conditions\n",
    "\n",
    "# Matrix representations of sx, sy, sz via Pauli spin matrices\n",
    "sx = 0.5 * array( [[0,  1],  [1,  0]] )\n",
    "sy = 0.5 * array( [[0, -1j], [1j, 0]] )\n",
    "sz = 0.5 * array( [[1,  0],  [0, -1]] )\n",
    "\n",
    "# Computing the quantum state vs. time\n",
    "results = odeint(odeRates, psi0, tArray, args=parameters)\n",
    "\n",
    "# These variables are used in the loop below:\n",
    "bra = zeros(2, dtype=complex)\n",
    "ket = zeros(2, dtype=complex)\n",
    "numSteps = size(tArray)\n",
    "spinVector = zeros([numSteps,3])\n",
    "\n",
    "# Computing expectation value of quantum spin vector for each time step\n",
    "for i in range(numSteps):\n",
    "    ket[0] = results[i,0] + 1j*results[i,1]\n",
    "    ket[1] = results[i,2] + 1j*results[i,3]\n",
    "    bra = conj(ket)\n",
    "    x = real(dot(bra, dot(sx, ket)))\n",
    "    y = real(dot(bra, dot(sy, ket)))\n",
    "    z = real(dot(bra, dot(sz, ket)))\n",
    "    spinVector[i, :] = array([x, y, z])"
   ]
  },
  {
   "cell_type": "markdown",
   "metadata": {
    "collapsed": true
   },
   "source": [
    "The next cell creates an animation showing how the $\\langle \\hat{\\vec{s}} \\rangle$ vector evolves in three-dimensional space for the case of a ***static*** field ($\\omega=0$).\n",
    "\n",
    "**NOTE: The following cell creates an interactive, animated version of Figure 5. This cell can be run from the IPython notebook (.IPYNB) version of this notebook, but it cannot be run from the HTML version.**"
   ]
  },
  {
   "cell_type": "code",
   "execution_count": 2,
   "metadata": {},
   "outputs": [
    {
     "data": {
      "application/javascript": [
       "require.undef(\"nbextensions/jquery-ui.custom.min\");"
      ],
      "text/plain": [
       "<IPython.core.display.Javascript object>"
      ]
     },
     "metadata": {},
     "output_type": "display_data"
    },
    {
     "data": {
      "application/javascript": [
       "require.undef(\"nbextensions/glow.2.1.min\");"
      ],
      "text/plain": [
       "<IPython.core.display.Javascript object>"
      ]
     },
     "metadata": {},
     "output_type": "display_data"
    },
    {
     "data": {
      "application/javascript": [
       "require.undef(\"nbextensions/glowcomm\");"
      ],
      "text/plain": [
       "<IPython.core.display.Javascript object>"
      ]
     },
     "metadata": {},
     "output_type": "display_data"
    },
    {
     "data": {
      "application/javascript": [
       "require([\"nbextensions/glowcomm\"], function(){console.log(\"glowcomm loaded\");})"
      ],
      "text/plain": [
       "<IPython.core.display.Javascript object>"
      ]
     },
     "metadata": {},
     "output_type": "display_data"
    },
    {
     "data": {
      "text/html": [
       "<div id=\"glowscript\" class=\"glowscript\"></div>"
      ],
      "text/plain": [
       "<IPython.core.display.HTML object>"
      ]
     },
     "metadata": {},
     "output_type": "display_data"
    },
    {
     "data": {
      "application/javascript": [
       "window.__context = { glowscript_container: $(\"#glowscript\").removeAttr(\"id\")}"
      ],
      "text/plain": [
       "<IPython.core.display.Javascript object>"
      ]
     },
     "metadata": {},
     "output_type": "display_data"
    },
    {
     "name": "stderr",
     "output_type": "stream",
     "text": [
      "/Users/larryengelhardt/anaconda/lib/python3.4/site-packages/IPython/html.py:14: ShimWarning: The `IPython.html` package has been deprecated. You should import from `notebook` instead. `IPython.html.widgets` has moved to `ipywidgets`.\n",
      "  \"`IPython.html.widgets` has moved to `ipywidgets`.\", ShimWarning)\n"
     ]
    },
    {
     "data": {
      "text/html": [
       "<div id=\"glowscript\" class=\"glowscript\"></div>"
      ],
      "text/plain": [
       "<IPython.core.display.HTML object>"
      ]
     },
     "metadata": {},
     "output_type": "display_data"
    },
    {
     "data": {
      "application/javascript": [
       "window.__context = { glowscript_container: $(\"#glowscript\").removeAttr(\"id\")}"
      ],
      "text/plain": [
       "<IPython.core.display.Javascript object>"
      ]
     },
     "metadata": {},
     "output_type": "display_data"
    }
   ],
   "source": [
    "# %autosave 86400\n",
    "# The line above will prevent autosaving during the animation\n",
    "from vpython import *\n",
    "from IPython.html import widgets\n",
    "from IPython.display import display\n",
    "\n",
    "larmor_scene = canvas(title = 'Larmor Precession') # Create scene\n",
    "# distant_light(direction=(0,-1,1), color=color.white)\n",
    "\n",
    "# Create objects to be visualized\n",
    "tip = sphere(pos=vector(0,0,0.5), radius=0.0, color=color.green,\n",
    "             opacity=0.8, make_trail=True, retain=numSteps)\n",
    "spin = arrow(pos=vector(0,0,0), axis=vector(0,0,0.5), color=color.black, shaftwidth=0.02)\n",
    "field = arrow(pos=vector(0, 0, 0), axis=vector(0.5*omega1, 0, 0.5*omega0), color=color.red, shaftwidth=0.01)\n",
    "timeLabel = label(pos=vector(0.6,0,0))\n",
    "\n",
    "# Configure scene\n",
    "larmor_scene.background = color.white\n",
    "larmor_scene.up = vector(0,0,1)\n",
    "larmor_scene.forward = vector(0,1,0) # Change to (1,0,0) to view along the x axis\n",
    "larmor_scene.autoscale = 1\n",
    "\n",
    "def animation(b): # 'b' will represent a button click\n",
    "    for i in range(numSteps): # Loop through all time steps\n",
    "        rate(20)              # Max of 20 frames per second\n",
    "        spin.axis = vector(spinVector[i,:])\n",
    "        tip.pos = vector(spinVector[i,:])\n",
    "        message = \"Time: t = \" + \"%.2f ns\" % tArray[i]\n",
    "        timeLabel.text = message\n",
    "\n",
    "button = widgets.Button(description=\"Start\")\n",
    "display(button, larmor_scene)\n",
    "button.on_click(animation)"
   ]
  },
  {
   "cell_type": "markdown",
   "metadata": {
    "collapsed": true
   },
   "source": [
    "###Magnetic resonance (oscillating field, $\\omega\\neq0$)\n",
    "\n",
    "The following cell computes $\\langle \\hat{\\vec{s}} \\rangle$ at several different times for the case of an *oscillating* field, $\\vec{H} = H_0\\mathbf{z} + H_1\\cos(\\omega t)\\mathbf{x}$, and then the next cell will create an animation showing how this vector evolves in three-dimensional space."
   ]
  },
  {
   "cell_type": "code",
   "execution_count": null,
   "metadata": {},
   "outputs": [],
   "source": [
    "%matplotlib inline\n",
    "from numpy import *\n",
    "\n",
    "# Parameters defining the magnetic field:\n",
    "omega  = 1.0   # OSCILLATING FIELD\n",
    "omega0 = 1.0;  omega1 = 0.1  # Magnitudes of H0 and H1 (GHz)\n",
    "parameters = (omega, omega0, omega1)\n",
    "\n",
    "# Will be used to define time array:\n",
    "tMax = 4*pi/omega1; dt = 0.01  # (in nanoseconds)\n",
    "tArray = linspace(0, tMax, 2000)  # Array of time values\n",
    "\n",
    "# Initial conditions (real & imaginary parts):\n",
    "aR = 1.0;  aI = 0.0     # a: Up   (+)\n",
    "bR = 0.0;  bI = 0.0     # b: Down (-)\n",
    "psi0 = (aR, aI, bR, bI)  # Initial conditions\n",
    "\n",
    "# Matrix representations of sx, sy, sz via Pauli spin matrices\n",
    "sx = 0.5 * array( [[0,  1],  [1,  0]] )\n",
    "sy = 0.5 * array( [[0, -1j], [1j, 0]] )\n",
    "sz = 0.5 * array( [[1,  0],  [0, -1]] )\n",
    "\n",
    "# Computing the quantum state vs. time\n",
    "results = odeint(odeRates, psi0, tArray, args=parameters)\n",
    "\n",
    "# These variables are used in the loop below:\n",
    "bra = zeros(2, dtype=complex)\n",
    "ket = zeros(2, dtype=complex)\n",
    "numSteps = size(tArray)\n",
    "spinVector = zeros([numSteps,3])\n",
    "\n",
    "# Computing expectation value of quantum spin vector for each time step\n",
    "for i in range(numSteps):\n",
    "    ket[0] = results[i,0] + 1j*results[i,1]\n",
    "    ket[1] = results[i,2] + 1j*results[i,3]\n",
    "    bra = conj(ket)\n",
    "    x = real(dot(bra, dot(sx, ket)))\n",
    "    y = real(dot(bra, dot(sy, ket)))\n",
    "    z = real(dot(bra, dot(sz, ket)))\n",
    "    spinVector[i, :] = array([x, y, z])"
   ]
  },
  {
   "cell_type": "markdown",
   "metadata": {
    "collapsed": true
   },
   "source": [
    "The next cell creates an animation showing how the $\\langle \\hat{\\vec{s}} \\rangle$ vector evolves in three-dimensional space for the case of an ***oscillating*** field ($\\omega\\neq 0$).\n",
    "\n",
    "**NOTE: The following cell creates an interactive, animated version of Figure 6. This cell can be run from the IPython notebook (.IPYNB) version of this notebook, but it cannot be run from the HTML version.**"
   ]
  },
  {
   "cell_type": "code",
   "execution_count": null,
   "metadata": {},
   "outputs": [],
   "source": [
    "%autosave 86400\n",
    "# The line above will prevent autosaving during the animation\n",
    "from ivisual import *\n",
    "from IPython.html import widgets\n",
    "from IPython.display import display\n",
    "\n",
    "titleString = 'Magnetic Resonance using parameters'+\\\n",
    "    ': omega0 = ' + str(omega0)+\\\n",
    "    ', omega1 = ' + str(omega1)+' and'+\\\n",
    "    ', omega = ' +  str(omega)\n",
    "    \n",
    "resonance_scene = canvas(title = titleString) # Create scene\n",
    "distant_light(direction=(0,-1,1), color=color.white)\n",
    "distant_light(direction=(-1,0,1), color=color.white)\n",
    "\n",
    "# Create objects to be visualized\n",
    "tip = sphere(pos=(0,0,0.5), radius=0.0, color=color.green,\n",
    "             opacity=0.8, make_trail=True, retain=numSteps)\n",
    "spin = arrow(pos=(0,0,0), axis=(0,0,0.5), color=color.black, shaftwidth=0.02)\n",
    "field = arrow(pos=(0, 0, 0), axis=(0.5*omega1, 0, 0.5*omega0), color=color.red, shaftwidth=0.01)\n",
    "#timeLabel = label(pos=(0.6,0,0))\n",
    "\n",
    "# Configure scene\n",
    "resonance_scene.background = color.white\n",
    "resonance_scene.up = vector(0,0,1)\n",
    "resonance_scene.forward = vector(0,1,0) # VIEWING ALONG THE Y AXIS\n",
    "#resonance_scene.forward = vector(1,0,0) # VIEWING ALONG THE X AXIS\n",
    "resonance_scene.autoscale = 1\n",
    "\n",
    "def animation(b): # 'b' will represent a button click\n",
    "    for i in range(numSteps): # Loop through all time steps\n",
    "        rate(20)              # Max of 20 frames per second\n",
    "        spin.axis = spinVector[i,:]\n",
    "        tip.pos = spinVector[i,:]\n",
    "        Hx = omega1*cos(omega*tArray[i]); Hz = omega0\n",
    "        field.axis = (0.5*Hx, 0, 0.5*Hz)\n",
    "        message = \"Time: t = \" + \"%.2f ns\" % tArray[i]\n",
    "        #timeLabel.text = message\n",
    "\n",
    "start_button = widgets.Button(description=\"Start\")\n",
    "\n",
    "axis_button = widgets.ToggleButtons(\n",
    "    description='Select which axis points into the screen:',\n",
    "    options=['+y', '+x', '-y', '-x']\n",
    ")\n",
    "\n",
    "\n",
    "# Changes which axis is oriented into the screen\n",
    "# and is called whenever \"axis_button\" is clicked:\n",
    "def change_axis(name, value):\n",
    "    if   value == '+x':\n",
    "        ahead = vector(1,0,0)\n",
    "    elif value == '+y':\n",
    "        ahead = vector(0,1,0)\n",
    "    elif value == '-x':\n",
    "        ahead = vector(-1,0,0)\n",
    "    elif value == '-y':\n",
    "        ahead = vector(0,-1,0)\n",
    "    resonance_scene.forward = ahead\n",
    "\n",
    "display(start_button, axis_button, resonance_scene)\n",
    "start_button.on_click(animation)\n",
    "axis_button.on_trait_change(change_axis, 'value')"
   ]
  },
  {
   "cell_type": "code",
   "execution_count": null,
   "metadata": {
    "collapsed": true
   },
   "outputs": [],
   "source": []
  }
 ],
 "metadata": {
  "kernelspec": {
   "display_name": "Python 3",
   "language": "python",
   "name": "python3"
  },
  "language_info": {
   "codemirror_mode": {
    "name": "ipython",
    "version": 3
   },
   "file_extension": ".py",
   "mimetype": "text/x-python",
   "name": "python",
   "nbconvert_exporter": "python",
   "pygments_lexer": "ipython3",
   "version": "3.8.8"
  }
 },
 "nbformat": 4,
 "nbformat_minor": 1
}
